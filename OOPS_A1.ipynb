{
 "cells": [
  {
   "cell_type": "markdown",
   "id": "a07ac537-6390-4e59-be06-b81d43a3bdbf",
   "metadata": {},
   "source": [
    "#Q1\n",
    "CLASS-A class is a user-defined data type. It consists of data members and member functions, which can be accessed and used by creating an instance of that class. It represents the set of properties or methods that are common to all objects of one type. A class is like a blueprint for an object.\n",
    "OBJECT-It is a basic unit of Object-Oriented Programming and represents the real-life entities. An Object is an instance of a Class. When a class is defined, no memory is allocated but when it is instantiated (i.e. an object is created) memory is allocated. An object has an identity, state, and behavior. Each object contains data and code to manipulate the data."
   ]
  },
  {
   "cell_type": "code",
   "execution_count": 1,
   "id": "751d7c10-64b4-4232-996f-cb475eef76e3",
   "metadata": {},
   "outputs": [],
   "source": [
    "#example-\n",
    "class test :\n",
    "    pass"
   ]
  },
  {
   "cell_type": "code",
   "execution_count": 2,
   "id": "487b8ca2-905a-446c-8b5b-a8d9280216cb",
   "metadata": {},
   "outputs": [],
   "source": [
    "#object\n",
    "a = test()"
   ]
  },
  {
   "cell_type": "markdown",
   "id": "1af6a84a-5dc4-494e-bc7f-18a307331f2b",
   "metadata": {},
   "source": [
    "#Q2\n",
    "Abstraction, Encapsulation, Inheritance, Polymorphism are the four pillars of the oops"
   ]
  },
  {
   "cell_type": "markdown",
   "id": "caca9b14-0cd5-4b92-873d-556819bfd6e9",
   "metadata": {},
   "source": [
    "#Q3\n",
    "the __init__() function can very simply be understood as a special method that is called during the object initialization/creation. The constructor is usually defined as a function in the class definition that takes in the state parameters and creates an object with those user-defined parameters."
   ]
  },
  {
   "cell_type": "code",
   "execution_count": 56,
   "id": "901e64a5-7de5-4306-a905-1c1c97637669",
   "metadata": {},
   "outputs": [],
   "source": [
    "#example\n",
    "class pwskills :\n",
    "    def __init__(self , phone_number,mail_id, student_id) :\n",
    "        self.phone_number = phone_number\n",
    "        self.mail_id = mail_id\n",
    "        self.student_id = student_id\n",
    "        \n",
    "    def return_student_details(self) :\n",
    "        return self.student_id, self.phone_number , self.mail_id"
   ]
  },
  {
   "cell_type": "code",
   "execution_count": 5,
   "id": "e6c2b422-fc16-4d15-b16b-4e917a00c656",
   "metadata": {},
   "outputs": [],
   "source": [
    "sach = pwskills(65646575,\"sach@gmail.com\" , 53)"
   ]
  },
  {
   "cell_type": "code",
   "execution_count": 7,
   "id": "cc4da899-c299-42ca-8072-007b81d9ba65",
   "metadata": {},
   "outputs": [
    {
     "data": {
      "text/plain": [
       "(53, 65646575, 'sach@gmail.com')"
      ]
     },
     "execution_count": 7,
     "metadata": {},
     "output_type": "execute_result"
    }
   ],
   "source": [
    "sach.return_student_details()"
   ]
  },
  {
   "cell_type": "markdown",
   "id": "924d14c1-cdab-4cdf-a811-9b46be6360b5",
   "metadata": {},
   "source": [
    "#Q4\n",
    "self represents the instance of the class. By using the “self”  we can access the attributes and methods of the class in python. It binds the attributes with the given arguments."
   ]
  },
  {
   "cell_type": "markdown",
   "id": "2494636d-4b8d-44be-9484-c16d2f917bff",
   "metadata": {},
   "source": [
    "#Q5\n",
    "Inheritance is defined as the mechanism of inheriting the properties of the base class to the child class. Here we a going to see the types of inheritance in Python. Type of inheritance are-\n",
    "single inheritance,\n",
    "multiple inheritance,\n",
    "multilevel inheritance,\n",
    "hierarichal inheritance,\n",
    "hybrid inheritance"
   ]
  },
  {
   "cell_type": "code",
   "execution_count": 8,
   "id": "fc1c5970-b2a1-4f0b-ae23-e435e0c6f1a8",
   "metadata": {},
   "outputs": [],
   "source": [
    "#single inheritance\n",
    "class test :\n",
    "    def test_meth(self) :\n",
    "        return \"this is my first class\"\n",
    "    "
   ]
  },
  {
   "cell_type": "code",
   "execution_count": 9,
   "id": "a40d5728-36c2-4052-86f8-30df9f1c7d0b",
   "metadata": {},
   "outputs": [],
   "source": [
    "class child_test(test):\n",
    "    pass"
   ]
  },
  {
   "cell_type": "code",
   "execution_count": 10,
   "id": "9f03c6cb-8ade-4953-8207-ea7a7cc5cddb",
   "metadata": {},
   "outputs": [],
   "source": [
    "child_test_obj = child_test()"
   ]
  },
  {
   "cell_type": "code",
   "execution_count": 11,
   "id": "9163d2ed-f4d5-4721-a510-27632a98470f",
   "metadata": {},
   "outputs": [
    {
     "data": {
      "text/plain": [
       "'this is my first class'"
      ]
     },
     "execution_count": 11,
     "metadata": {},
     "output_type": "execute_result"
    }
   ],
   "source": [
    "child_test_obj.test_meth()"
   ]
  },
  {
   "cell_type": "code",
   "execution_count": 12,
   "id": "12ed16cc-bc44-4450-aa08-99e9d0f5d978",
   "metadata": {},
   "outputs": [],
   "source": [
    "#multilevel inheritance\n",
    "class class1:\n",
    "    def test_class1(self) :\n",
    "        return \"this is from class1\""
   ]
  },
  {
   "cell_type": "code",
   "execution_count": 13,
   "id": "8f4449a8-ee36-4f1e-8065-54caadcc3c1c",
   "metadata": {},
   "outputs": [],
   "source": [
    "class class2(class1):\n",
    "    def test_class2(self) :\n",
    "        return \"this is from class2\""
   ]
  },
  {
   "cell_type": "code",
   "execution_count": 14,
   "id": "a6460024-ec70-458e-9b74-fb4ceb429cba",
   "metadata": {},
   "outputs": [],
   "source": [
    "class class3(class2) :\n",
    "    pass"
   ]
  },
  {
   "cell_type": "code",
   "execution_count": 15,
   "id": "3821271e-d973-4586-ae6b-5bde154beaf4",
   "metadata": {},
   "outputs": [],
   "source": [
    "ocj_class3 = class3()"
   ]
  },
  {
   "cell_type": "code",
   "execution_count": 17,
   "id": "0db7a9b9-27e7-4862-ac76-35b116e2421a",
   "metadata": {},
   "outputs": [
    {
     "data": {
      "text/plain": [
       "'this is from class1'"
      ]
     },
     "execution_count": 17,
     "metadata": {},
     "output_type": "execute_result"
    }
   ],
   "source": [
    "ocj_class3.test_class1()"
   ]
  },
  {
   "cell_type": "code",
   "execution_count": 19,
   "id": "c0c724b7-d50c-4eca-b003-4ae26199fda5",
   "metadata": {},
   "outputs": [
    {
     "data": {
      "text/plain": [
       "'this is from class2'"
      ]
     },
     "execution_count": 19,
     "metadata": {},
     "output_type": "execute_result"
    }
   ],
   "source": [
    "ocj_class3.test_class2()"
   ]
  },
  {
   "cell_type": "code",
   "execution_count": 20,
   "id": "db2b8f6e-0b4c-48be-aa80-66597bcb6aa8",
   "metadata": {},
   "outputs": [],
   "source": [
    "#multiple inheriance\n",
    "class class1:\n",
    "    def test_class1(self):\n",
    "        return \"this is class1\""
   ]
  },
  {
   "cell_type": "code",
   "execution_count": 21,
   "id": "e5ac1830-bd94-4989-b450-705c8c350c49",
   "metadata": {},
   "outputs": [],
   "source": [
    "class class2:\n",
    "    def test_class2(self):\n",
    "        return \"this is class2\""
   ]
  },
  {
   "cell_type": "code",
   "execution_count": 22,
   "id": "d692c915-e37e-4b6a-b037-6fc5ea50529c",
   "metadata": {},
   "outputs": [],
   "source": [
    "class class3(class1,class2) :\n",
    "    pass"
   ]
  },
  {
   "cell_type": "code",
   "execution_count": 23,
   "id": "cf195dec-6f13-45d6-b973-ced2659596a0",
   "metadata": {},
   "outputs": [],
   "source": [
    "obj_class3 = class3()"
   ]
  },
  {
   "cell_type": "code",
   "execution_count": 25,
   "id": "1b496dba-c9f7-4e1e-9880-a13b0a269a2a",
   "metadata": {},
   "outputs": [
    {
     "data": {
      "text/plain": [
       "'this is class1'"
      ]
     },
     "execution_count": 25,
     "metadata": {},
     "output_type": "execute_result"
    }
   ],
   "source": [
    "obj_class3.test_class1()"
   ]
  },
  {
   "cell_type": "code",
   "execution_count": 26,
   "id": "bfa1346a-14ee-40cf-a874-f809bd0fd40f",
   "metadata": {},
   "outputs": [
    {
     "data": {
      "text/plain": [
       "'this is class2'"
      ]
     },
     "execution_count": 26,
     "metadata": {},
     "output_type": "execute_result"
    }
   ],
   "source": [
    "obj_class3.test_class2()"
   ]
  },
  {
   "cell_type": "code",
   "execution_count": 30,
   "id": "58c67613-df3b-46e2-bc45-f6af3089530a",
   "metadata": {},
   "outputs": [],
   "source": [
    "# hierarchical inheritance\n",
    "\n",
    "class class1:\n",
    "        def test_class1(self):\n",
    "             print(\"This is class1\")"
   ]
  },
  {
   "cell_type": "code",
   "execution_count": 36,
   "id": "46736973-0a75-46cd-9eb2-58366e18593f",
   "metadata": {},
   "outputs": [],
   "source": [
    "class class2(class1):\n",
    "    def test_class2(self):\n",
    "        print(\"This is class2\")"
   ]
  },
  {
   "cell_type": "code",
   "execution_count": 32,
   "id": "a3f0065a-b289-4b6f-a46f-1bb9f6882cd2",
   "metadata": {},
   "outputs": [],
   "source": [
    "class Class3(class1):\n",
    "    def test_class3(self):\n",
    "        print(\"This is class3\")"
   ]
  },
  {
   "cell_type": "code",
   "execution_count": 37,
   "id": "f3a7a8bf-d5ba-40fc-9301-8d5c19dd28cd",
   "metadata": {},
   "outputs": [],
   "source": [
    "obj1 = class2()\n",
    "obj2 = Class3()"
   ]
  },
  {
   "cell_type": "code",
   "execution_count": 38,
   "id": "53993d3c-c1e8-489f-9aa3-69c594305e42",
   "metadata": {},
   "outputs": [
    {
     "name": "stdout",
     "output_type": "stream",
     "text": [
      "This is class1\n"
     ]
    }
   ],
   "source": [
    "obj1.test_class1()"
   ]
  },
  {
   "cell_type": "code",
   "execution_count": 41,
   "id": "5f0d22f2-d390-4656-9d04-7495c7421bfa",
   "metadata": {},
   "outputs": [
    {
     "name": "stdout",
     "output_type": "stream",
     "text": [
      "This is class2\n"
     ]
    }
   ],
   "source": [
    "obj1.test_class2()"
   ]
  },
  {
   "cell_type": "code",
   "execution_count": 43,
   "id": "4d83aeac-786c-473f-adb8-c07d0c7788db",
   "metadata": {},
   "outputs": [
    {
     "name": "stdout",
     "output_type": "stream",
     "text": [
      "This is class1\n"
     ]
    }
   ],
   "source": [
    "obj2.test_class1()"
   ]
  },
  {
   "cell_type": "code",
   "execution_count": 44,
   "id": "21895543-88ca-4898-8188-b47e65db1a82",
   "metadata": {},
   "outputs": [
    {
     "name": "stdout",
     "output_type": "stream",
     "text": [
      "This is class3\n"
     ]
    }
   ],
   "source": [
    "obj2.test_class3()"
   ]
  },
  {
   "cell_type": "code",
   "execution_count": 46,
   "id": "a3a36a8b-82fe-4f61-a291-d011df7e5164",
   "metadata": {},
   "outputs": [],
   "source": [
    "# hybrid inheritance\n",
    "class school:\n",
    "    def func1(self):\n",
    "        print(\"this function is in school\")"
   ]
  },
  {
   "cell_type": "code",
   "execution_count": 47,
   "id": "128cac3a-1e24-4375-8268-d8bf48e8dc32",
   "metadata": {},
   "outputs": [],
   "source": [
    "class student1(School):\n",
    "    def func2(self):\n",
    "        print(\"this is student 1\")"
   ]
  },
  {
   "cell_type": "code",
   "execution_count": 48,
   "id": "6e24e845-e530-468d-a8e4-5f8434bcf32a",
   "metadata": {},
   "outputs": [],
   "source": [
    "class student2(School):\n",
    "    def func3(self):\n",
    "        print(\"this is student 2\")"
   ]
  },
  {
   "cell_type": "code",
   "execution_count": 49,
   "id": "7f17f59b-593f-4408-bc73-4d4a783038db",
   "metadata": {},
   "outputs": [],
   "source": [
    "class student3(student1, school):\n",
    "    def func4(self):\n",
    "        print(\"this is student 3\")"
   ]
  },
  {
   "cell_type": "code",
   "execution_count": 50,
   "id": "0f72188f-5455-43c4-8fc2-a9cdef0d34a6",
   "metadata": {},
   "outputs": [],
   "source": [
    "obj = student3()"
   ]
  },
  {
   "cell_type": "code",
   "execution_count": 52,
   "id": "ec1c5701-4842-47cf-bdfb-14adcc954dc1",
   "metadata": {},
   "outputs": [
    {
     "name": "stdout",
     "output_type": "stream",
     "text": [
      "This function is in school.\n"
     ]
    }
   ],
   "source": [
    "obj.func1()"
   ]
  },
  {
   "cell_type": "code",
   "execution_count": 54,
   "id": "00e118e3-8c33-45dc-bccf-a7a17e2c8a6b",
   "metadata": {},
   "outputs": [
    {
     "name": "stdout",
     "output_type": "stream",
     "text": [
      "this is student 1\n"
     ]
    }
   ],
   "source": [
    "obj.func2()"
   ]
  },
  {
   "cell_type": "code",
   "execution_count": 55,
   "id": "9e5dc8a3-6dea-4721-a06d-15153ab462d9",
   "metadata": {},
   "outputs": [
    {
     "name": "stdout",
     "output_type": "stream",
     "text": [
      "this is student 3\n"
     ]
    }
   ],
   "source": [
    "obj.func4()"
   ]
  },
  {
   "cell_type": "code",
   "execution_count": null,
   "id": "1c0ba0d8-9a4d-41ab-a14e-37e0dc127222",
   "metadata": {},
   "outputs": [],
   "source": []
  }
 ],
 "metadata": {
  "kernelspec": {
   "display_name": "Python 3 (ipykernel)",
   "language": "python",
   "name": "python3"
  },
  "language_info": {
   "codemirror_mode": {
    "name": "ipython",
    "version": 3
   },
   "file_extension": ".py",
   "mimetype": "text/x-python",
   "name": "python",
   "nbconvert_exporter": "python",
   "pygments_lexer": "ipython3",
   "version": "3.10.8"
  }
 },
 "nbformat": 4,
 "nbformat_minor": 5
}
